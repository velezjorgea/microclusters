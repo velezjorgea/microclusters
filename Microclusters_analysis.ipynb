{
 "cells": [
  {
   "cell_type": "markdown",
   "metadata": {},
   "source": [
    "# Creative microclusters> Microclustering analysis"
   ]
  },
  {
   "cell_type": "markdown",
   "metadata": {},
   "source": [
    "### 1. Hotspot analysis (500 mts)"
   ]
  },
  {
   "cell_type": "code",
   "execution_count": null,
   "metadata": {},
   "outputs": [],
   "source": [
    "arcpy.stats.OptimizedHotSpotAnalysis(\"Glass_geolocation_CI_TTWA_81_CRN_unmatched_XYTableToPoint2\", r\"C:\\Users\\jorge\\Documents\\ArcGIS\\Projects\\Radar2\\Radar2.gdb\\Glass_geolocation_CI_TTWA_81_CRN_unmatched_XYTableToPoint2_OptimizedHotSpotAnalysis\", \"id_organization\", \"COUNT_INCIDENTS_WITHIN_FISHNET_POLYGONS\", None, None, None, None, \"500 Meters\")"
   ]
  },
  {
   "cell_type": "code",
   "execution_count": null,
   "metadata": {},
   "outputs": [],
   "source": [
    "arcpy.stats.OptimizedHotSpotAnalysis(\"Glass CRN Unmatched\", r\"C:\\Users\\jorge\\Documents\\ArcGIS\\Projects\\Radar2\\Radar2.gdb\\Glass_geolocation_CI_TTWA_81_CRN_unmatched_XYTableToPoint2_OptimizedHotSpotAnalysis\", \"id_organization\", \"COUNT_INCIDENTS_WITHIN_FISHNET_POLYGONS\", None, None, None, None, \"1000 Meters\")"
   ]
  },
  {
   "cell_type": "markdown",
   "metadata": {},
   "source": [
    "### 2. Density based clustering  (HDBSCAN)"
   ]
  },
  {
   "cell_type": "code",
   "execution_count": null,
   "metadata": {},
   "outputs": [],
   "source": [
    "# Overwrite existing output, by default\n",
    "arcpy.env.overwriteOutput = True\n",
    "\n",
    "# Local variables...\n",
    "workspace = r\"C:\\Users\\jorge\\Documents\\ArcGIS\\Projects\\Radar2\\Radar2.gdb\\Glass_geolocation_CI_TTWA_81_CRN_unmatched_XYTableToPoint2_OptimizedHotSpotAnalysis\"\n",
    "arcpy.env.workspace = workspace\n",
    "\n",
    "# Run Density-based Clustering with the HDBSCAN Cluster Method using a minimum \n",
    "# of 50 features per cluster\n",
    "arcpy.stats.DensityBasedClustering(\"Glass_geolocation_CI_TTWA_81_CRN_unmatched_XYTableToPoint2\",\"Arson_HDB\", \"HDBSCAN\", 50)\n",
    "\n",
    "\n",
    "#Density based on the selection of firms with 50 neighbours\n",
    "arcpy.stats.DensityBasedClustering(\"OptimizedHotSpotAnalysis_500 selection\", r\"C:\\Users\\jorge\\Documents\\ArcGIS\\Projects\\Radar2\\Radar2.gdb\\OptimizedHotSpotAnalysis_500selection_DensityBasedClustering\", \"HDBSCAN\", 50, None, None)"
   ]
  }
 ],
 "metadata": {
  "kernelspec": {
   "display_name": "Python 3",
   "language": "python",
   "name": "python3"
  },
  "language_info": {
   "codemirror_mode": {
    "name": "ipython",
    "version": 3
   },
   "file_extension": ".py",
   "mimetype": "text/x-python",
   "name": "python",
   "nbconvert_exporter": "python",
   "pygments_lexer": "ipython3",
   "version": "3.8.3"
  }
 },
 "nbformat": 4,
 "nbformat_minor": 4
}
